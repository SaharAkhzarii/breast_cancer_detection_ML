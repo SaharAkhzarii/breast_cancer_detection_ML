{
 "cells": [
  {
   "cell_type": "markdown",
   "metadata": {},
   "source": [
    "Library"
   ]
  },
  {
   "cell_type": "code",
   "execution_count": 31,
   "metadata": {},
   "outputs": [],
   "source": [
    "import numpy as np\n",
    "import pandas as pd\n",
    "import matplotlib.pyplot as plt\n"
   ]
  },
  {
   "cell_type": "markdown",
   "metadata": {},
   "source": [
    "Dataset"
   ]
  },
  {
   "cell_type": "code",
   "execution_count": 32,
   "metadata": {},
   "outputs": [],
   "source": [
    "from sklearn.datasets import load_breast_cancer\n",
    "bc = load_breast_cancer()"
   ]
  },
  {
   "cell_type": "code",
   "execution_count": 33,
   "metadata": {},
   "outputs": [
    {
     "data": {
      "text/plain": [
       "(569,)"
      ]
     },
     "execution_count": 33,
     "metadata": {},
     "output_type": "execute_result"
    }
   ],
   "source": [
    "bc.target.shape"
   ]
  },
  {
   "cell_type": "code",
   "execution_count": 34,
   "metadata": {},
   "outputs": [
    {
     "data": {
      "text/plain": [
       "(569, 30)"
      ]
     },
     "execution_count": 34,
     "metadata": {},
     "output_type": "execute_result"
    }
   ],
   "source": [
    "bc.data.shape"
   ]
  },
  {
   "cell_type": "markdown",
   "metadata": {},
   "source": [
    "preprocessing"
   ]
  },
  {
   "cell_type": "code",
   "execution_count": 35,
   "metadata": {},
   "outputs": [
    {
     "name": "stdout",
     "output_type": "stream",
     "text": [
      "feature=>train:(455, 30),test:(114, 30)\n",
      "label=>train:(455,),test:(114,)\n"
     ]
    }
   ],
   "source": [
    "from sklearn.model_selection import train_test_split\n",
    "x_train , x_test , y_train , y_test = train_test_split(bc.data , bc.target , test_size=0.2)\n",
    "\n",
    "print(f\"feature=>train:{x_train.shape},test:{x_test.shape}\")\n",
    "print(f\"label=>train:{y_train.shape},test:{y_test.shape}\")"
   ]
  },
  {
   "cell_type": "markdown",
   "metadata": {},
   "source": [
    "Preprocessing"
   ]
  },
  {
   "cell_type": "code",
   "execution_count": 36,
   "metadata": {},
   "outputs": [],
   "source": [
    "from sklearn.preprocessing import MinMaxScaler\n",
    "\n",
    "Scaler = MinMaxScaler(feature_range=(0,1))\n",
    "\n",
    "x_train = Scaler.fit_transform(x_train)\n",
    "x_test = Scaler.fit_transform(x_test)\n"
   ]
  },
  {
   "cell_type": "markdown",
   "metadata": {},
   "source": [
    "Classification"
   ]
  },
  {
   "cell_type": "code",
   "execution_count": 37,
   "metadata": {},
   "outputs": [],
   "source": [
    "from sklearn.metrics import recall_score , accuracy_score , precision_score\n",
    "def calculate_metrics (y_train , y_test , y_pred_train , y_pred_test):\n",
    "\n",
    "    acc_train = accuracy_score(y_true=y_train , y_pred=y_pred_train)\n",
    "    acc_test = accuracy_score(y_true=y_test , y_pred=y_pred_test)\n",
    "    \n",
    "    p = precision_score(y_true=y_test , y_pred=y_pred_test)\n",
    "    r = recall_score(y_true=y_test , y_pred=y_pred_test)\n",
    "\n",
    "    print(f\"acc_train:{acc_train} , acc_test:{acc_test} ,precision :{p} ,recall:{r}\")\n",
    "    return acc_train , acc_test , p ,r"
   ]
  },
  {
   "cell_type": "markdown",
   "metadata": {},
   "source": [
    "1.Naive Bayes"
   ]
  },
  {
   "cell_type": "code",
   "execution_count": 38,
   "metadata": {},
   "outputs": [
    {
     "name": "stdout",
     "output_type": "stream",
     "text": [
      "acc_train:0.9340659340659341 , acc_test:0.9210526315789473 ,precision :0.9705882352941176 ,recall:0.9041095890410958\n"
     ]
    }
   ],
   "source": [
    "from sklearn.naive_bayes import GaussianNB\n",
    "\n",
    "nbg = GaussianNB()\n",
    "nbg.fit(x_train , y_train)\n",
    "\n",
    "y_pred_train = nbg.predict(x_train)\n",
    "y_pred_test = nbg.predict(x_test)\n",
    "\n",
    "acc_train_nbg , acc_test_nbg , p_nbg , r_nbg = calculate_metrics(y_train , y_test , y_pred_train , y_pred_test)"
   ]
  },
  {
   "cell_type": "markdown",
   "metadata": {},
   "source": [
    "2.KNN"
   ]
  },
  {
   "cell_type": "code",
   "execution_count": 40,
   "metadata": {},
   "outputs": [
    {
     "name": "stdout",
     "output_type": "stream",
     "text": [
      "acc_train:0.9714285714285714 , acc_test:0.9736842105263158 ,precision :0.9861111111111112 ,recall:0.9726027397260274\n"
     ]
    }
   ],
   "source": [
    "from sklearn.neighbors import KNeighborsClassifier\n",
    "\n",
    "knn = KNeighborsClassifier(n_neighbors=8 , algorithm='kd_tree' , leaf_size=28)\n",
    "knn.fit(x_train , y_train)\n",
    "\n",
    "y_pred_train = knn.predict(x_train)\n",
    "y_pred_test = knn.predict(x_test)\n",
    "\n",
    "acc_train_knn , acc_test_knn , p_knn , r_knn = calculate_metrics(y_train , y_test , y_pred_train , y_pred_test)"
   ]
  },
  {
   "cell_type": "markdown",
   "metadata": {},
   "source": [
    "3.Decision Tree"
   ]
  },
  {
   "cell_type": "code",
   "execution_count": 49,
   "metadata": {},
   "outputs": [
    {
     "name": "stdout",
     "output_type": "stream",
     "text": [
      "acc_train:0.9956043956043956 , acc_test:0.9298245614035088 ,precision :0.9850746268656716 ,recall:0.9041095890410958\n"
     ]
    }
   ],
   "source": [
    "from sklearn.tree import DecisionTreeClassifier\n",
    "\n",
    "dt = DecisionTreeClassifier(max_depth=64 , min_samples_split=4 , criterion='gini')\n",
    "dt.fit(x_train , y_train)\n",
    "\n",
    "y_pred_train = dt.predict(x_train)\n",
    "y_pred_test = dt.predict(x_test)\n",
    "\n",
    "acc_train_dt , acc_test_dt , p_dt , r_dt = calculate_metrics(y_train , y_test , y_pred_train , y_pred_test)\n"
   ]
  },
  {
   "cell_type": "markdown",
   "metadata": {},
   "source": [
    "4.Random Forest"
   ]
  },
  {
   "cell_type": "code",
   "execution_count": 54,
   "metadata": {},
   "outputs": [
    {
     "name": "stdout",
     "output_type": "stream",
     "text": [
      "acc_train:1.0 , acc_test:0.9385964912280702 ,precision :0.9852941176470589 ,recall:0.9178082191780822\n"
     ]
    }
   ],
   "source": [
    "from sklearn.ensemble import RandomForestClassifier\n",
    "\n",
    "rf = RandomForestClassifier(n_estimators=1000 ,max_depth=32, criterion='entropy',min_samples_split=4)\n",
    "rf.fit(x_train , y_train)\n",
    "\n",
    "y_pred_train = rf.predict(x_train)\n",
    "y_pred_test = rf.predict(x_test)\n",
    "\n",
    "acc_train_rf , acc_test_rf , p_rf , r_rf = calculate_metrics(y_train , y_test , y_pred_train , y_pred_test)\n"
   ]
  },
  {
   "cell_type": "markdown",
   "metadata": {},
   "source": [
    "5.SVM"
   ]
  },
  {
   "cell_type": "code",
   "execution_count": 55,
   "metadata": {},
   "outputs": [
    {
     "name": "stdout",
     "output_type": "stream",
     "text": [
      "acc_train:0.9868131868131869 , acc_test:0.9824561403508771 ,precision :0.9863013698630136 ,recall:0.9863013698630136\n"
     ]
    }
   ],
   "source": [
    "from sklearn.svm import SVC\n",
    "\n",
    "svm = SVC(kernel='poly')\n",
    "svm.fit(x_train , y_train)\n",
    "\n",
    "y_pred_train = svm.predict(x_train)\n",
    "y_pred_test = svm.predict(x_test)\n",
    "\n",
    "acc_train_svm , acc_test_svm , p_svm , r_svm = calculate_metrics(y_train , y_test , y_pred_train , y_pred_test)\n"
   ]
  },
  {
   "cell_type": "markdown",
   "metadata": {},
   "source": [
    "6.Logistic Regression"
   ]
  },
  {
   "cell_type": "code",
   "execution_count": 57,
   "metadata": {},
   "outputs": [
    {
     "name": "stdout",
     "output_type": "stream",
     "text": [
      "acc_train:0.9736263736263736 , acc_test:0.9736842105263158 ,precision :0.9861111111111112 ,recall:0.9726027397260274\n"
     ]
    }
   ],
   "source": [
    "from sklearn.linear_model import LogisticRegression\n",
    "\n",
    "lr = LogisticRegression( )\n",
    "lr.fit(x_train , y_train)\n",
    "\n",
    "y_pred_train = lr.predict(x_train)\n",
    "y_pred_test = lr.predict(x_test)\n",
    "\n",
    "acc_train_lr , acc_test_lr , p_lr , r_lr = calculate_metrics(y_train , y_test , y_pred_train , y_pred_test)"
   ]
  },
  {
   "cell_type": "markdown",
   "metadata": {},
   "source": [
    "7.ANN"
   ]
  },
  {
   "cell_type": "code",
   "execution_count": 58,
   "metadata": {},
   "outputs": [
    {
     "name": "stdout",
     "output_type": "stream",
     "text": [
      "acc_train:0.978021978021978 , acc_test:0.9649122807017544 ,precision :0.9859154929577465 ,recall:0.958904109589041\n"
     ]
    },
    {
     "name": "stderr",
     "output_type": "stream",
     "text": [
      "c:\\Users\\ASUS\\Desktop\\gitprj\\venv3120\\Lib\\site-packages\\sklearn\\neural_network\\_multilayer_perceptron.py:691: ConvergenceWarning: Stochastic Optimizer: Maximum iterations (200) reached and the optimization hasn't converged yet.\n",
      "  warnings.warn(\n"
     ]
    }
   ],
   "source": [
    "from sklearn.neural_network import MLPClassifier\n",
    "\n",
    "ann = MLPClassifier(hidden_layer_sizes=256 , activation='tanh')\n",
    "ann.fit(x_train , y_train)\n",
    "\n",
    "y_pred_train = ann.predict(x_train)\n",
    "y_pred_test = ann.predict(x_test)\n",
    "\n",
    "acc_train_ann , acc_test_ann , p_ann , r_ann = calculate_metrics(y_train , y_test , y_pred_train , y_pred_test)\n"
   ]
  },
  {
   "cell_type": "markdown",
   "metadata": {},
   "source": [
    "Comparision"
   ]
  },
  {
   "cell_type": "code",
   "execution_count": 63,
   "metadata": {},
   "outputs": [
    {
     "data": {
      "image/png": "[encoded data removed]",
      "text/plain": [
       "<Figure size 640x480 with 1 Axes>"
      ]
     },
     "metadata": {},
     "output_type": "display_data"
    }
   ],
   "source": [
    "acc_train = [acc_train_nbg , acc_train_knn , acc_train_dt , acc_train_rf , acc_test_svm , acc_train_lr , acc_train_ann]\n",
    "titlle = ['NBG' , 'KNN' , 'DT', 'RF' , 'SVM' , 'LR' , 'ANN']\n",
    "color = ['black','red','blue','green','purple','pink','yellow']\n",
    "plt.bar(titlle , acc_train , color=color)\n",
    "plt.grid()\n",
    "plt.show()"
   ]
  },
  {
   "cell_type": "code",
   "execution_count": 64,
   "metadata": {},
   "outputs": [
    {
     "data": {
      "image/png": "[encoded data removed]",
      "text/plain": [
       "<Figure size 640x480 with 1 Axes>"
      ]
     },
     "metadata": {},
     "output_type": "display_data"
    }
   ],
   "source": [
    "acc_test = [acc_test_nbg , acc_test_knn , acc_test_dt , acc_test_rf , acc_test_svm , acc_test_lr , acc_test_ann]\n",
    "titlle = ['NBG' , 'KNN' , 'DT', 'RF' , 'SVM' , 'LR' , 'ANN']\n",
    "color = ['black','red','blue','green','purple','pink','yellow']\n",
    "plt.bar(titlle , acc_test , color=color)\n",
    "plt.grid()\n",
    "plt.show()\n"
   ]
  },
  {
   "cell_type": "code",
   "execution_count": 65,
   "metadata": {},
   "outputs": [
    {
     "data": {
      "image/png": "[encoded data removed]",
      "text/plain": [
       "<Figure size 640x480 with 1 Axes>"
      ]
     },
     "metadata": {},
     "output_type": "display_data"
    }
   ],
   "source": [
    "p = [p_nbg ,p_knn , p_dt , p_rf , p_svm , p_lr , p_ann]\n",
    "titlle = ['NBG' , 'KNN' , 'DT', 'RF' , 'SVM' , 'LR' , 'ANN']\n",
    "color = ['black','red','blue','green','purple','pink','yellow']\n",
    "plt.bar(titlle , p , color=color)\n",
    "plt.grid()\n",
    "plt.show()\n"
   ]
  },
  {
   "cell_type": "code",
   "execution_count": 66,
   "metadata": {},
   "outputs": [
    {
     "data": {
      "image/png": "[encoded data removed]",
      "text/plain": [
       "<Figure size 640x480 with 1 Axes>"
      ]
     },
     "metadata": {},
     "output_type": "display_data"
    }
   ],
   "source": [
    "r= [r_nbg ,r_knn , r_dt , r_rf , r_svm , r_lr , r_ann]\n",
    "titlle = ['NBG' , 'KNN' , 'DT', 'RF' , 'SVM' , 'LR' , 'ANN']\n",
    "color = ['black','red','blue','green','purple','pink','yellow']\n",
    "plt.bar(titlle , r , color=color)\n",
    "plt.grid()\n",
    "plt.show()\n"
   ]
  },
  {
   "cell_type": "code",
   "execution_count": null,
   "metadata": {},
   "outputs": [],
   "source": []
  }
 ],
 "metadata": {
  "kernelspec": {
   "display_name": "venv3120",
   "language": "python",
   "name": "python3"
  },
  "language_info": {
   "codemirror_mode": {
    "name": "ipython",
    "version": 3
   },
   "file_extension": ".py",
   "mimetype": "text/x-python",
   "name": "python",
   "nbconvert_exporter": "python",
   "pygments_lexer": "ipython3",
   "version": "3.12.0"
  }
 },
 "nbformat": 4,
 "nbformat_minor": 2
}
